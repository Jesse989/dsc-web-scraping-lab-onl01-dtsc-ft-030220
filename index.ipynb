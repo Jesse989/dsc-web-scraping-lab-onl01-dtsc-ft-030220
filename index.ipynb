{
 "cells": [
  {
   "cell_type": "markdown",
   "metadata": {},
   "source": [
    "# Web Scraping - Lab\n",
    "\n",
    "## Introduction\n",
    "\n",
    "Now that you've seen a more extensive example of developing a web scraping script, it's time to further practice and formalize that knowledge by writing functions to parse specific pieces of information from the web page and then synthesizing these into a larger loop that will iterate over successive web pages in order to build a complete dataset.\n",
    "\n",
    "## Objectives\n",
    "\n",
    "You will be able to:\n",
    "\n",
    "* Navigate HTML documents using Beautiful Soup's children and sibling relations\n",
    "* Select specific elements from HTML using Beautiful Soup\n",
    "* Use regular expressions to extract items with a certain pattern within Beautiful Soup\n",
    "* Determine the pagination scheme of a website and scrape multiple pages"
   ]
  },
  {
   "cell_type": "markdown",
   "metadata": {},
   "source": [
    "## Lab Overview\n",
    "\n",
    "This lab will build upon the previous lesson. In the end, you'll look to write a script that will iterate over all of the pages for the demo site and extract the title, price, star rating and availability of each book listed. Building up to that, you'll formalize the concepts from the lesson by writing functions that will extract a list of each of these features for each web page. You'll then combine these functions into the full script which will look something like this:  \n",
    "\n",
    "```python\n",
    "df = pd.DataFrame()\n",
    "for i in range(2,51):\n",
    "    url = \"http://books.toscrape.com/catalogue/page-{}.html\".format(i)\n",
    "    soup = BeautifulSoup(html_page.content, 'html.parser')\n",
    "    new_titles = retrieve_titles(soup)\n",
    "    new_star_ratings = retrieve_ratings(soup)\n",
    "    new_prices = retrieve_prices(soup)\n",
    "    new_avails = retrieve_avails(soup)\n",
    "    ...\n",
    " ```"
   ]
  },
  {
   "cell_type": "code",
   "execution_count": 1,
   "metadata": {},
   "outputs": [],
   "source": [
    "from bs4 import BeautifulSoup\n",
    "import pandas as pd\n",
    "import requests"
   ]
  },
  {
   "cell_type": "code",
   "execution_count": 2,
   "metadata": {},
   "outputs": [
    {
     "data": {
      "text/plain": [
       "200"
      ]
     },
     "execution_count": 2,
     "metadata": {},
     "output_type": "execute_result"
    }
   ],
   "source": [
    "base_url = 'http://books.toscrape.com'\n",
    "page = requests.get(base_url)\n",
    "page.status_code"
   ]
  },
  {
   "cell_type": "code",
   "execution_count": 60,
   "metadata": {},
   "outputs": [
    {
     "name": "stdout",
     "output_type": "stream",
     "text": [
      "catalogue/page-2.html\n"
     ]
    }
   ],
   "source": [
    "soup = BeautifulSoup(page.content, 'html.parser')\n",
    "for p in soup.find_all(\"li\", class_=\"next\"):\n",
    "    print(p.a.get('href'))"
   ]
  },
  {
   "cell_type": "markdown",
   "metadata": {},
   "source": [
    "## Retrieving Titles\n",
    "\n",
    "To start, write a function that extracts the titles of the books on a given page. The input for the function should be the `soup` for the HTML of the page."
   ]
  },
  {
   "cell_type": "code",
   "execution_count": 30,
   "metadata": {},
   "outputs": [],
   "source": [
    "def retrieve_titles(soup):\n",
    "    #Your code here\n",
    "    titles = []\n",
    "    for h3 in soup.find_all('h3'):\n",
    "        titles.append(h3.a.get('title'))\n",
    "    return titles"
   ]
  },
  {
   "cell_type": "markdown",
   "metadata": {},
   "source": [
    "## Retrieve Ratings\n",
    "\n",
    "Next, write a similar function to retrieve the star ratings on a given page. Again, the function should take in the `soup` from the given HTML page and return a list of the star ratings for the books. These star ratings should be formatted as integers."
   ]
  },
  {
   "cell_type": "code",
   "execution_count": 31,
   "metadata": {},
   "outputs": [],
   "source": [
    "def retrieve_ratings(soup):\n",
    "    #Your code here\n",
    "    ratings = []\n",
    "    for p in soup.find_all(\"p\", class_=\"star-rating\"):\n",
    "        ratings.append(p.get('class')[1])\n",
    "    return ratings"
   ]
  },
  {
   "cell_type": "markdown",
   "metadata": {},
   "source": [
    "## Retrieve Prices\n",
    "\n",
    "Now write a function to retrieve the prices on a given page. The function should take in the `soup` from the given page and return a list of prices formatted as floats."
   ]
  },
  {
   "cell_type": "code",
   "execution_count": 32,
   "metadata": {},
   "outputs": [],
   "source": [
    "def retrieve_prices(soup):\n",
    "    #Your code here\n",
    "    prices = []\n",
    "    for p in soup.find_all(\"p\", class_=\"price_color\"):\n",
    "        prices.append(float(p.text[1:]))\n",
    "    return prices"
   ]
  },
  {
   "cell_type": "markdown",
   "metadata": {},
   "source": [
    "## Retrieve Availability\n",
    "\n",
    "Write a function to retrieve whether each book is available or not. The function should take in the `soup` from a given html page and return a list of the availability for each book."
   ]
  },
  {
   "cell_type": "code",
   "execution_count": 35,
   "metadata": {},
   "outputs": [],
   "source": [
    "def retrieve_avails(soup):\n",
    "    #Your code here\n",
    "    avail = []\n",
    "    for p in soup.find_all(\"p\", class_=\"availability\"):\n",
    "        avail.append(p.text.strip())\n",
    "    return avail"
   ]
  },
  {
   "cell_type": "markdown",
   "metadata": {},
   "source": [
    "## Retrieve Next Page URL"
   ]
  },
  {
   "cell_type": "code",
   "execution_count": 92,
   "metadata": {},
   "outputs": [],
   "source": [
    "# doesnt need a loop, should only have one next li per page\n",
    "def retrieve_next(soup):\n",
    "    try:\n",
    "        url = soup.find(\"li\", class_=\"next\").a.get('href')\n",
    "        if 'catalogue' in url.split('/'):\n",
    "            return url.split('/')[1]\n",
    "        else:\n",
    "            return url\n",
    "    except AttributeError:\n",
    "        return None"
   ]
  },
  {
   "cell_type": "markdown",
   "metadata": {},
   "source": [
    "## Create a Script to Retrieve All the Books From All 50 Pages\n",
    "\n",
    "Finally, write a script to retrieve all of the information from all 50 pages of the books.toscrape.com website. "
   ]
  },
  {
   "cell_type": "code",
   "execution_count": 49,
   "metadata": {},
   "outputs": [
    {
     "data": {
      "text/html": [
       "<div>\n",
       "<style scoped>\n",
       "    .dataframe tbody tr th:only-of-type {\n",
       "        vertical-align: middle;\n",
       "    }\n",
       "\n",
       "    .dataframe tbody tr th {\n",
       "        vertical-align: top;\n",
       "    }\n",
       "\n",
       "    .dataframe thead th {\n",
       "        text-align: right;\n",
       "    }\n",
       "</style>\n",
       "<table border=\"1\" class=\"dataframe\">\n",
       "  <thead>\n",
       "    <tr style=\"text-align: right;\">\n",
       "      <th></th>\n",
       "      <th>title</th>\n",
       "      <th>stars</th>\n",
       "      <th>price</th>\n",
       "      <th>availability</th>\n",
       "    </tr>\n",
       "  </thead>\n",
       "  <tbody>\n",
       "    <tr>\n",
       "      <td>0</td>\n",
       "      <td>In Her Wake</td>\n",
       "      <td>One</td>\n",
       "      <td>12.84</td>\n",
       "      <td>In stock</td>\n",
       "    </tr>\n",
       "    <tr>\n",
       "      <td>1</td>\n",
       "      <td>How Music Works</td>\n",
       "      <td>Two</td>\n",
       "      <td>37.32</td>\n",
       "      <td>In stock</td>\n",
       "    </tr>\n",
       "    <tr>\n",
       "      <td>2</td>\n",
       "      <td>Foolproof Preserving: A Guide to Small Batch J...</td>\n",
       "      <td>Three</td>\n",
       "      <td>30.52</td>\n",
       "      <td>In stock</td>\n",
       "    </tr>\n",
       "    <tr>\n",
       "      <td>3</td>\n",
       "      <td>Chase Me (Paris Nights #2)</td>\n",
       "      <td>Five</td>\n",
       "      <td>25.27</td>\n",
       "      <td>In stock</td>\n",
       "    </tr>\n",
       "    <tr>\n",
       "      <td>4</td>\n",
       "      <td>Black Dust</td>\n",
       "      <td>Five</td>\n",
       "      <td>34.53</td>\n",
       "      <td>In stock</td>\n",
       "    </tr>\n",
       "  </tbody>\n",
       "</table>\n",
       "</div>"
      ],
      "text/plain": [
       "                                               title  stars  price  \\\n",
       "0                                        In Her Wake    One  12.84   \n",
       "1                                    How Music Works    Two  37.32   \n",
       "2  Foolproof Preserving: A Guide to Small Batch J...  Three  30.52   \n",
       "3                         Chase Me (Paris Nights #2)   Five  25.27   \n",
       "4                                         Black Dust   Five  34.53   \n",
       "\n",
       "  availability  \n",
       "0     In stock  \n",
       "1     In stock  \n",
       "2     In stock  \n",
       "3     In stock  \n",
       "4     In stock  "
      ]
     },
     "execution_count": 49,
     "metadata": {},
     "output_type": "execute_result"
    }
   ],
   "source": [
    "#Your code here\n",
    "cols = ['title', 'stars', 'price', 'availability']\n",
    "df = pd.DataFrame(columns=cols)\n",
    "\n",
    "for i in range(2,51):\n",
    "    url = \"http://books.toscrape.com/catalogue/page-{}.html\".format(i)\n",
    "    html_page = requests.get(url)\n",
    "    soup = BeautifulSoup(html_page.content, 'html.parser')\n",
    "    new_titles = retrieve_titles(soup)\n",
    "    new_star_ratings = retrieve_ratings(soup)\n",
    "    new_prices = retrieve_prices(soup)\n",
    "    new_avails = retrieve_avails(soup)\n",
    "    new_df = pd.DataFrame([new_titles, new_star_ratings, new_prices, new_avails]).transpose()\n",
    "    new_df.columns = cols\n",
    "    df = df.append(new_df)    \n",
    "\n",
    "\n",
    "df.head()"
   ]
  },
  {
   "cell_type": "code",
   "execution_count": 50,
   "metadata": {},
   "outputs": [
    {
     "data": {
      "text/html": [
       "<div>\n",
       "<style scoped>\n",
       "    .dataframe tbody tr th:only-of-type {\n",
       "        vertical-align: middle;\n",
       "    }\n",
       "\n",
       "    .dataframe tbody tr th {\n",
       "        vertical-align: top;\n",
       "    }\n",
       "\n",
       "    .dataframe thead th {\n",
       "        text-align: right;\n",
       "    }\n",
       "</style>\n",
       "<table border=\"1\" class=\"dataframe\">\n",
       "  <thead>\n",
       "    <tr style=\"text-align: right;\">\n",
       "      <th></th>\n",
       "      <th>title</th>\n",
       "      <th>stars</th>\n",
       "      <th>price</th>\n",
       "      <th>availability</th>\n",
       "    </tr>\n",
       "  </thead>\n",
       "  <tbody>\n",
       "    <tr>\n",
       "      <td>5</td>\n",
       "      <td>Life of Pi</td>\n",
       "      <td>Four</td>\n",
       "      <td>13.22</td>\n",
       "      <td>In stock</td>\n",
       "    </tr>\n",
       "    <tr>\n",
       "      <td>19</td>\n",
       "      <td>Lady Renegades (Rebel Belle #3)</td>\n",
       "      <td>Five</td>\n",
       "      <td>53.04</td>\n",
       "      <td>In stock</td>\n",
       "    </tr>\n",
       "    <tr>\n",
       "      <td>14</td>\n",
       "      <td>The New Guy (and Other Senior Year Distractions)</td>\n",
       "      <td>Three</td>\n",
       "      <td>44.92</td>\n",
       "      <td>In stock</td>\n",
       "    </tr>\n",
       "    <tr>\n",
       "      <td>0</td>\n",
       "      <td>Nightstruck: A Novel</td>\n",
       "      <td>Four</td>\n",
       "      <td>50.35</td>\n",
       "      <td>In stock</td>\n",
       "    </tr>\n",
       "    <tr>\n",
       "      <td>16</td>\n",
       "      <td>Catherine the Great: Portrait of a Woman</td>\n",
       "      <td>Four</td>\n",
       "      <td>58.55</td>\n",
       "      <td>In stock</td>\n",
       "    </tr>\n",
       "    <tr>\n",
       "      <td>6</td>\n",
       "      <td>This Is Your Brain on Music: The Science of a ...</td>\n",
       "      <td>One</td>\n",
       "      <td>38.4</td>\n",
       "      <td>In stock</td>\n",
       "    </tr>\n",
       "    <tr>\n",
       "      <td>1</td>\n",
       "      <td>If I Stay (If I Stay #1)</td>\n",
       "      <td>Five</td>\n",
       "      <td>38.13</td>\n",
       "      <td>In stock</td>\n",
       "    </tr>\n",
       "    <tr>\n",
       "      <td>19</td>\n",
       "      <td>The Selfish Gene</td>\n",
       "      <td>One</td>\n",
       "      <td>29.45</td>\n",
       "      <td>In stock</td>\n",
       "    </tr>\n",
       "    <tr>\n",
       "      <td>8</td>\n",
       "      <td>The Perfect Play (Play by Play #1)</td>\n",
       "      <td>Three</td>\n",
       "      <td>59.99</td>\n",
       "      <td>In stock</td>\n",
       "    </tr>\n",
       "    <tr>\n",
       "      <td>2</td>\n",
       "      <td>Y: The Last Man, Vol. 1: Unmanned (Y: The Last...</td>\n",
       "      <td>Four</td>\n",
       "      <td>18.51</td>\n",
       "      <td>In stock</td>\n",
       "    </tr>\n",
       "  </tbody>\n",
       "</table>\n",
       "</div>"
      ],
      "text/plain": [
       "                                                title  stars  price  \\\n",
       "5                                          Life of Pi   Four  13.22   \n",
       "19                    Lady Renegades (Rebel Belle #3)   Five  53.04   \n",
       "14   The New Guy (and Other Senior Year Distractions)  Three  44.92   \n",
       "0                                Nightstruck: A Novel   Four  50.35   \n",
       "16           Catherine the Great: Portrait of a Woman   Four  58.55   \n",
       "6   This Is Your Brain on Music: The Science of a ...    One   38.4   \n",
       "1                            If I Stay (If I Stay #1)   Five  38.13   \n",
       "19                                   The Selfish Gene    One  29.45   \n",
       "8                  The Perfect Play (Play by Play #1)  Three  59.99   \n",
       "2   Y: The Last Man, Vol. 1: Unmanned (Y: The Last...   Four  18.51   \n",
       "\n",
       "   availability  \n",
       "5      In stock  \n",
       "19     In stock  \n",
       "14     In stock  \n",
       "0      In stock  \n",
       "16     In stock  \n",
       "6      In stock  \n",
       "1      In stock  \n",
       "19     In stock  \n",
       "8      In stock  \n",
       "2      In stock  "
      ]
     },
     "execution_count": 50,
     "metadata": {},
     "output_type": "execute_result"
    }
   ],
   "source": [
    "df.sample(10)"
   ]
  },
  {
   "cell_type": "markdown",
   "metadata": {},
   "source": [
    "## Level-Up: Write a new version of the script you just wrote. \n",
    "\n",
    "If you used URL hacking to generate each successive page URL, instead write a function that retrieves the link from the `\"next\"` button at the bottom of the page. Conversely, if you already used this approach above, use URL-hacking (arguably the easier of the two methods in this case)."
   ]
  },
  {
   "cell_type": "code",
   "execution_count": 93,
   "metadata": {},
   "outputs": [
    {
     "name": "stdout",
     "output_type": "stream",
     "text": [
      "http://books.toscrape.com/catalogue/page-2.html\n",
      "page-3.html\n",
      "http://books.toscrape.com/catalogue/page-3.html\n",
      "page-4.html\n",
      "http://books.toscrape.com/catalogue/page-4.html\n",
      "page-5.html\n",
      "http://books.toscrape.com/catalogue/page-5.html\n",
      "page-6.html\n",
      "http://books.toscrape.com/catalogue/page-6.html\n",
      "page-7.html\n",
      "http://books.toscrape.com/catalogue/page-7.html\n",
      "page-8.html\n",
      "http://books.toscrape.com/catalogue/page-8.html\n",
      "page-9.html\n",
      "http://books.toscrape.com/catalogue/page-9.html\n",
      "page-10.html\n",
      "http://books.toscrape.com/catalogue/page-10.html\n",
      "page-11.html\n",
      "http://books.toscrape.com/catalogue/page-11.html\n",
      "page-12.html\n",
      "http://books.toscrape.com/catalogue/page-12.html\n",
      "page-13.html\n",
      "http://books.toscrape.com/catalogue/page-13.html\n",
      "page-14.html\n",
      "http://books.toscrape.com/catalogue/page-14.html\n",
      "page-15.html\n",
      "http://books.toscrape.com/catalogue/page-15.html\n",
      "page-16.html\n",
      "http://books.toscrape.com/catalogue/page-16.html\n",
      "page-17.html\n",
      "http://books.toscrape.com/catalogue/page-17.html\n",
      "page-18.html\n",
      "http://books.toscrape.com/catalogue/page-18.html\n",
      "page-19.html\n",
      "http://books.toscrape.com/catalogue/page-19.html\n",
      "page-20.html\n",
      "http://books.toscrape.com/catalogue/page-20.html\n",
      "page-21.html\n",
      "http://books.toscrape.com/catalogue/page-21.html\n",
      "page-22.html\n",
      "http://books.toscrape.com/catalogue/page-22.html\n",
      "page-23.html\n",
      "http://books.toscrape.com/catalogue/page-23.html\n",
      "page-24.html\n",
      "http://books.toscrape.com/catalogue/page-24.html\n",
      "page-25.html\n",
      "http://books.toscrape.com/catalogue/page-25.html\n",
      "page-26.html\n",
      "http://books.toscrape.com/catalogue/page-26.html\n",
      "page-27.html\n",
      "http://books.toscrape.com/catalogue/page-27.html\n",
      "page-28.html\n",
      "http://books.toscrape.com/catalogue/page-28.html\n",
      "page-29.html\n",
      "http://books.toscrape.com/catalogue/page-29.html\n",
      "page-30.html\n",
      "http://books.toscrape.com/catalogue/page-30.html\n",
      "page-31.html\n",
      "http://books.toscrape.com/catalogue/page-31.html\n",
      "page-32.html\n",
      "http://books.toscrape.com/catalogue/page-32.html\n",
      "page-33.html\n",
      "http://books.toscrape.com/catalogue/page-33.html\n",
      "page-34.html\n",
      "http://books.toscrape.com/catalogue/page-34.html\n",
      "page-35.html\n",
      "http://books.toscrape.com/catalogue/page-35.html\n",
      "page-36.html\n",
      "http://books.toscrape.com/catalogue/page-36.html\n",
      "page-37.html\n",
      "http://books.toscrape.com/catalogue/page-37.html\n",
      "page-38.html\n",
      "http://books.toscrape.com/catalogue/page-38.html\n",
      "page-39.html\n",
      "http://books.toscrape.com/catalogue/page-39.html\n",
      "page-40.html\n",
      "http://books.toscrape.com/catalogue/page-40.html\n",
      "page-41.html\n",
      "http://books.toscrape.com/catalogue/page-41.html\n",
      "page-42.html\n",
      "http://books.toscrape.com/catalogue/page-42.html\n",
      "page-43.html\n",
      "http://books.toscrape.com/catalogue/page-43.html\n",
      "page-44.html\n",
      "http://books.toscrape.com/catalogue/page-44.html\n",
      "page-45.html\n",
      "http://books.toscrape.com/catalogue/page-45.html\n",
      "page-46.html\n",
      "http://books.toscrape.com/catalogue/page-46.html\n",
      "page-47.html\n",
      "http://books.toscrape.com/catalogue/page-47.html\n",
      "page-48.html\n",
      "http://books.toscrape.com/catalogue/page-48.html\n",
      "page-49.html\n",
      "http://books.toscrape.com/catalogue/page-49.html\n",
      "page-50.html\n",
      "http://books.toscrape.com/catalogue/page-50.html\n",
      "None\n"
     ]
    }
   ],
   "source": [
    "url = 'http://books.toscrape.com'\n",
    "html_page = requests.get(url)\n",
    "soup = BeautifulSoup(html_page.content, 'html.parser')\n",
    "next_page = retrieve_next(soup)\n",
    "#Your code here\n",
    "while next_page:\n",
    "    url = \"http://books.toscrape.com/catalogue/{}\".format(next_page)\n",
    "    html_page = requests.get(url)\n",
    "    soup = BeautifulSoup(html_page.content, 'html.parser')\n",
    "    next_page = retrieve_next(soup)\n",
    "    new_titles = retrieve_titles(soup)\n",
    "    new_star_ratings = retrieve_ratings(soup)\n",
    "    new_prices = retrieve_prices(soup)\n",
    "    new_avails = retrieve_avails(soup)\n",
    "    new_df = pd.DataFrame([new_titles, new_star_ratings, new_prices, new_avails]).transpose()\n",
    "    new_df.columns = cols\n",
    "    df = df.append(new_df) "
   ]
  },
  {
   "cell_type": "markdown",
   "metadata": {},
   "source": [
    "## Summary\n",
    "\n",
    "Well done! You just completed your first full web scraping project! You're ready to start harnessing the power of the web!"
   ]
  },
  {
   "cell_type": "code",
   "execution_count": 94,
   "metadata": {},
   "outputs": [
    {
     "data": {
      "text/html": [
       "<div>\n",
       "<style scoped>\n",
       "    .dataframe tbody tr th:only-of-type {\n",
       "        vertical-align: middle;\n",
       "    }\n",
       "\n",
       "    .dataframe tbody tr th {\n",
       "        vertical-align: top;\n",
       "    }\n",
       "\n",
       "    .dataframe thead th {\n",
       "        text-align: right;\n",
       "    }\n",
       "</style>\n",
       "<table border=\"1\" class=\"dataframe\">\n",
       "  <thead>\n",
       "    <tr style=\"text-align: right;\">\n",
       "      <th></th>\n",
       "      <th>title</th>\n",
       "      <th>stars</th>\n",
       "      <th>price</th>\n",
       "      <th>availability</th>\n",
       "    </tr>\n",
       "  </thead>\n",
       "  <tbody>\n",
       "    <tr>\n",
       "      <td>0</td>\n",
       "      <td>In Her Wake</td>\n",
       "      <td>One</td>\n",
       "      <td>12.84</td>\n",
       "      <td>In stock</td>\n",
       "    </tr>\n",
       "    <tr>\n",
       "      <td>1</td>\n",
       "      <td>How Music Works</td>\n",
       "      <td>Two</td>\n",
       "      <td>37.32</td>\n",
       "      <td>In stock</td>\n",
       "    </tr>\n",
       "    <tr>\n",
       "      <td>2</td>\n",
       "      <td>Foolproof Preserving: A Guide to Small Batch J...</td>\n",
       "      <td>Three</td>\n",
       "      <td>30.52</td>\n",
       "      <td>In stock</td>\n",
       "    </tr>\n",
       "    <tr>\n",
       "      <td>3</td>\n",
       "      <td>Chase Me (Paris Nights #2)</td>\n",
       "      <td>Five</td>\n",
       "      <td>25.27</td>\n",
       "      <td>In stock</td>\n",
       "    </tr>\n",
       "    <tr>\n",
       "      <td>4</td>\n",
       "      <td>Black Dust</td>\n",
       "      <td>Five</td>\n",
       "      <td>34.53</td>\n",
       "      <td>In stock</td>\n",
       "    </tr>\n",
       "  </tbody>\n",
       "</table>\n",
       "</div>"
      ],
      "text/plain": [
       "                                               title  stars  price  \\\n",
       "0                                        In Her Wake    One  12.84   \n",
       "1                                    How Music Works    Two  37.32   \n",
       "2  Foolproof Preserving: A Guide to Small Batch J...  Three  30.52   \n",
       "3                         Chase Me (Paris Nights #2)   Five  25.27   \n",
       "4                                         Black Dust   Five  34.53   \n",
       "\n",
       "  availability  \n",
       "0     In stock  \n",
       "1     In stock  \n",
       "2     In stock  \n",
       "3     In stock  \n",
       "4     In stock  "
      ]
     },
     "execution_count": 94,
     "metadata": {},
     "output_type": "execute_result"
    }
   ],
   "source": [
    "df.head()"
   ]
  },
  {
   "cell_type": "code",
   "execution_count": 95,
   "metadata": {},
   "outputs": [
    {
     "data": {
      "text/html": [
       "<div>\n",
       "<style scoped>\n",
       "    .dataframe tbody tr th:only-of-type {\n",
       "        vertical-align: middle;\n",
       "    }\n",
       "\n",
       "    .dataframe tbody tr th {\n",
       "        vertical-align: top;\n",
       "    }\n",
       "\n",
       "    .dataframe thead th {\n",
       "        text-align: right;\n",
       "    }\n",
       "</style>\n",
       "<table border=\"1\" class=\"dataframe\">\n",
       "  <thead>\n",
       "    <tr style=\"text-align: right;\">\n",
       "      <th></th>\n",
       "      <th>title</th>\n",
       "      <th>stars</th>\n",
       "      <th>price</th>\n",
       "      <th>availability</th>\n",
       "    </tr>\n",
       "  </thead>\n",
       "  <tbody>\n",
       "    <tr>\n",
       "      <td>count</td>\n",
       "      <td>9160</td>\n",
       "      <td>9160</td>\n",
       "      <td>9160.00</td>\n",
       "      <td>9160</td>\n",
       "    </tr>\n",
       "    <tr>\n",
       "      <td>unique</td>\n",
       "      <td>979</td>\n",
       "      <td>5</td>\n",
       "      <td>887.00</td>\n",
       "      <td>1</td>\n",
       "    </tr>\n",
       "    <tr>\n",
       "      <td>top</td>\n",
       "      <td>You can't bury them all: Poems</td>\n",
       "      <td>Three</td>\n",
       "      <td>44.18</td>\n",
       "      <td>In stock</td>\n",
       "    </tr>\n",
       "    <tr>\n",
       "      <td>freq</td>\n",
       "      <td>315</td>\n",
       "      <td>2467</td>\n",
       "      <td>321.00</td>\n",
       "      <td>9160</td>\n",
       "    </tr>\n",
       "  </tbody>\n",
       "</table>\n",
       "</div>"
      ],
      "text/plain": [
       "                                 title  stars    price availability\n",
       "count                             9160   9160  9160.00         9160\n",
       "unique                             979      5   887.00            1\n",
       "top     You can't bury them all: Poems  Three    44.18     In stock\n",
       "freq                               315   2467   321.00         9160"
      ]
     },
     "execution_count": 95,
     "metadata": {},
     "output_type": "execute_result"
    }
   ],
   "source": [
    "df.describe()"
   ]
  },
  {
   "cell_type": "code",
   "execution_count": 96,
   "metadata": {},
   "outputs": [
    {
     "data": {
      "text/html": [
       "<div>\n",
       "<style scoped>\n",
       "    .dataframe tbody tr th:only-of-type {\n",
       "        vertical-align: middle;\n",
       "    }\n",
       "\n",
       "    .dataframe tbody tr th {\n",
       "        vertical-align: top;\n",
       "    }\n",
       "\n",
       "    .dataframe thead th {\n",
       "        text-align: right;\n",
       "    }\n",
       "</style>\n",
       "<table border=\"1\" class=\"dataframe\">\n",
       "  <thead>\n",
       "    <tr style=\"text-align: right;\">\n",
       "      <th></th>\n",
       "      <th>title</th>\n",
       "      <th>stars</th>\n",
       "      <th>price</th>\n",
       "      <th>availability</th>\n",
       "    </tr>\n",
       "  </thead>\n",
       "  <tbody>\n",
       "    <tr>\n",
       "      <td>6</td>\n",
       "      <td>America's Cradle of Quarterbacks: Western Penn...</td>\n",
       "      <td>Three</td>\n",
       "      <td>22.5</td>\n",
       "      <td>In stock</td>\n",
       "    </tr>\n",
       "    <tr>\n",
       "      <td>18</td>\n",
       "      <td>Behind Closed Doors</td>\n",
       "      <td>Four</td>\n",
       "      <td>52.22</td>\n",
       "      <td>In stock</td>\n",
       "    </tr>\n",
       "    <tr>\n",
       "      <td>4</td>\n",
       "      <td>Black Dust</td>\n",
       "      <td>Five</td>\n",
       "      <td>34.53</td>\n",
       "      <td>In stock</td>\n",
       "    </tr>\n",
       "    <tr>\n",
       "      <td>19</td>\n",
       "      <td>The Lonely Ones</td>\n",
       "      <td>Five</td>\n",
       "      <td>43.59</td>\n",
       "      <td>In stock</td>\n",
       "    </tr>\n",
       "    <tr>\n",
       "      <td>17</td>\n",
       "      <td>In a Dark, Dark Wood</td>\n",
       "      <td>One</td>\n",
       "      <td>19.63</td>\n",
       "      <td>In stock</td>\n",
       "    </tr>\n",
       "    <tr>\n",
       "      <td>4</td>\n",
       "      <td>The Husband's Secret</td>\n",
       "      <td>Five</td>\n",
       "      <td>52.51</td>\n",
       "      <td>In stock</td>\n",
       "    </tr>\n",
       "    <tr>\n",
       "      <td>4</td>\n",
       "      <td>Candide</td>\n",
       "      <td>Three</td>\n",
       "      <td>58.63</td>\n",
       "      <td>In stock</td>\n",
       "    </tr>\n",
       "    <tr>\n",
       "      <td>9</td>\n",
       "      <td>El Deafo</td>\n",
       "      <td>Five</td>\n",
       "      <td>57.62</td>\n",
       "      <td>In stock</td>\n",
       "    </tr>\n",
       "    <tr>\n",
       "      <td>15</td>\n",
       "      <td>Lumberjanes Vol. 3: A Terrible Plan (Lumberjan...</td>\n",
       "      <td>Two</td>\n",
       "      <td>19.92</td>\n",
       "      <td>In stock</td>\n",
       "    </tr>\n",
       "    <tr>\n",
       "      <td>13</td>\n",
       "      <td>The Bear and the Piano</td>\n",
       "      <td>One</td>\n",
       "      <td>36.89</td>\n",
       "      <td>In stock</td>\n",
       "    </tr>\n",
       "  </tbody>\n",
       "</table>\n",
       "</div>"
      ],
      "text/plain": [
       "                                                title  stars  price  \\\n",
       "6   America's Cradle of Quarterbacks: Western Penn...  Three   22.5   \n",
       "18                                Behind Closed Doors   Four  52.22   \n",
       "4                                          Black Dust   Five  34.53   \n",
       "19                                    The Lonely Ones   Five  43.59   \n",
       "17                               In a Dark, Dark Wood    One  19.63   \n",
       "4                                The Husband's Secret   Five  52.51   \n",
       "4                                             Candide  Three  58.63   \n",
       "9                                            El Deafo   Five  57.62   \n",
       "15  Lumberjanes Vol. 3: A Terrible Plan (Lumberjan...    Two  19.92   \n",
       "13                             The Bear and the Piano    One  36.89   \n",
       "\n",
       "   availability  \n",
       "6      In stock  \n",
       "18     In stock  \n",
       "4      In stock  \n",
       "19     In stock  \n",
       "17     In stock  \n",
       "4      In stock  \n",
       "4      In stock  \n",
       "9      In stock  \n",
       "15     In stock  \n",
       "13     In stock  "
      ]
     },
     "execution_count": 96,
     "metadata": {},
     "output_type": "execute_result"
    }
   ],
   "source": [
    "df.sample(10)"
   ]
  },
  {
   "cell_type": "code",
   "execution_count": 99,
   "metadata": {},
   "outputs": [],
   "source": [
    "df['price'] = df['price'].astype('float64')"
   ]
  },
  {
   "cell_type": "code",
   "execution_count": 101,
   "metadata": {},
   "outputs": [],
   "source": [
    "%matplotlib inline"
   ]
  },
  {
   "cell_type": "code",
   "execution_count": 102,
   "metadata": {},
   "outputs": [
    {
     "data": {
      "text/plain": [
       "array([[<matplotlib.axes._subplots.AxesSubplot object at 0x123d04b00>]],\n",
       "      dtype=object)"
      ]
     },
     "execution_count": 102,
     "metadata": {},
     "output_type": "execute_result"
    },
    {
     "data": {
      "image/png": "[encoded data removed]",
      "text/plain": [
       "<Figure size 432x288 with 1 Axes>"
      ]
     },
     "metadata": {
      "needs_background": "light"
     },
     "output_type": "display_data"
    }
   ],
   "source": [
    "df.hist()"
   ]
  },
  {
   "cell_type": "code",
   "execution_count": null,
   "metadata": {},
   "outputs": [],
   "source": []
  }
 ],
 "metadata": {
  "kernelspec": {
   "display_name": "Python 3",
   "language": "python",
   "name": "python3"
  },
  "language_info": {
   "codemirror_mode": {
    "name": "ipython",
    "version": 3
   },
   "file_extension": ".py",
   "mimetype": "text/x-python",
   "name": "python",
   "nbconvert_exporter": "python",
   "pygments_lexer": "ipython3",
   "version": "3.6.9"
  }
 },
 "nbformat": 4,
 "nbformat_minor": 2
}
